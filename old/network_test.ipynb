{
 "cells": [
  {
   "cell_type": "code",
   "execution_count": 34,
   "metadata": {},
   "outputs": [],
   "source": [
    "import swiftsimio as sw\n",
    "import velociraptor as vr\n",
    "import h5py\n",
    "import unyt\n",
    "import numpy as np\n",
    "import matplotlib.pyplot as plt\n",
    "import torch\n",
    "import time"
   ]
  },
  {
   "cell_type": "code",
   "execution_count": 42,
   "metadata": {},
   "outputs": [],
   "source": [
    "class NeuralNetwork():\n",
    "    def __init__(self, lr):\n",
    "        self.model = None\n",
    "        self.optimizer = None\n",
    "        self.lr = lr\n",
    "        self.batch_size = 64\n",
    "        self.epochs = 10\n",
    "    \n",
    "\n",
    "    def set_linear_model(self, nr_inputs):\n",
    "        self.model = torch.nn.Sequential(\n",
    "            torch.nn.Linear(nr_inputs, 100),\n",
    "            torch.nn.Linear(100, 1)\n",
    "        )\n",
    "    \n",
    "    def set_optimizer(self):\n",
    "        self.optimizer = torch.optim.Adam(self.model.parameters())\n",
    "    \n",
    "\n",
    "    def train(self, data):\n",
    "        for epoch in range(self.epochs):\n",
    "            epoch_start = time.time()\n",
    "            nr_batches = int(len(data.trainy)/self.batch_size) - 1\n",
    "            for batch in range(nr_batches):\n",
    "                batch_start = batch*self.batch_size\n",
    "                batch_stop = (batch+1)*self.batch_size\n",
    "                y_pred = self.model(torch.Tensor(data.trainx[batch_start:batch_stop]))\n",
    "                target = torch.Tensor(data.trainy[batch_start:batch_stop])\n",
    "                loss = (y_pred - target).square().sum()\n",
    "                self.optimizer.zero_grad()\n",
    "                loss.backward()\n",
    "                self.optimizer.step()\n",
    "            print(f\"Epoch: {epoch}, done in {time.time() - epoch_start:.2f} seconds\")\n",
    "\n",
    "    def test(self, data):\n",
    "        prediction = self.model(torch.Tensor(data.testx[:64]))\n",
    "        print(prediction[:10])\n",
    "        print(data.testy[:10])"
   ]
  },
  {
   "cell_type": "code",
   "execution_count": 43,
   "metadata": {},
   "outputs": [],
   "source": [
    "class Data():\n",
    "    def __init__(self, soap_path, sw_path = \"\", selection_type=\"SO/500_crit/\"):\n",
    "        self.soap_file = h5py.File(f\"{soap_path}\", \"r\")\n",
    "        self.selection_type = selection_type\n",
    "        self.sw_path = sw_path\n",
    "\n",
    "        self.properties = []\n",
    "        self.set_nr_halos()\n",
    "    \n",
    "    def add_soap_property(self, path):\n",
    "        self.properties.append(path)\n",
    "\n",
    "\n",
    "    def make_soap_dataset(self, target_property=\"GasMass\", use_log=True):\n",
    "        data_x = np.zeros((self.nr_halos, len(self.properties)))\n",
    "        for i in range(len(self.properties)):\n",
    "            data_x[:,i] = self.soap_file[f\"{self.selection_type}{self.properties[i]}\"]\n",
    "        \n",
    "        data_y = np.array(self.soap_file[f\"{self.selection_type}{target_property}\"])\n",
    "\n",
    "        nonzero_target = (data_y != 0)\n",
    "        nonzero_data = (np.sum(data_x == 0, axis=1) == 0)\n",
    "        nonzero = nonzero_target * nonzero_data\n",
    "\n",
    "        data_x = data_x[nonzero]\n",
    "        data_y = data_y[nonzero]\n",
    "        shuffled_indices = np.arange(len(data_x))\n",
    "        np.random.shuffle(shuffled_indices)\n",
    "\n",
    "        if use_log:\n",
    "            data_x = np.log10(data_x)\n",
    "            data_y = np.log10(data_y)\n",
    "\n",
    "        test_len = int(0.2*len(data_x))\n",
    "        self.trainx = data_x[test_len:]\n",
    "        self.trainy = data_y[test_len:]\n",
    "        self.testx = data_x[:test_len]\n",
    "        self.testy = data_y[:test_len]\n",
    "        \n",
    "\n",
    "\n",
    "    def set_nr_halos(self):\n",
    "        self.nr_halos = self.soap_file[f\"{self.selection_type}/CentreOfMass\"].shape[0]"
   ]
  },
  {
   "cell_type": "code",
   "execution_count": 44,
   "metadata": {},
   "outputs": [],
   "source": [
    "data = Data(\"/net/hypernova/data2/FLAMINGO/L1000N1800/HYDRO_FIDUCIAL/SOAP/halo_properties_0077.hdf5\")\n",
    "data.add_soap_property(\"SORadius\")\n",
    "data.add_soap_property(\"StarFormationRate\")\n",
    "data.add_soap_property(\"GasTemperature\")\n",
    "data.make_soap_dataset(\"GasMass\")"
   ]
  },
  {
   "cell_type": "code",
   "execution_count": 45,
   "metadata": {},
   "outputs": [
    {
     "name": "stdout",
     "output_type": "stream",
     "text": [
      "Epoch: 0, done in 4.58 seconds\n",
      "Epoch: 1, done in 4.35 seconds\n",
      "Epoch: 2, done in 3.97 seconds\n",
      "Epoch: 3, done in 4.52 seconds\n",
      "Epoch: 4, done in 3.98 seconds\n",
      "Epoch: 5, done in 4.19 seconds\n",
      "Epoch: 6, done in 4.62 seconds\n",
      "Epoch: 7, done in 4.34 seconds\n",
      "Epoch: 8, done in 3.89 seconds\n",
      "Epoch: 9, done in 4.47 seconds\n",
      "tensor([[12.2736],\n",
      "        [12.2865],\n",
      "        [12.3272],\n",
      "        [12.1962],\n",
      "        [12.0197],\n",
      "        [12.2346],\n",
      "        [12.1814],\n",
      "        [11.9981],\n",
      "        [12.0926],\n",
      "        [12.0330]], grad_fn=<SliceBackward0>)\n",
      "[13.695617  13.730842  13.6479845 13.499366  13.55475   13.592955\n",
      " 13.481519  13.324218  13.378035  13.27956  ]\n"
     ]
    }
   ],
   "source": [
    "model = NeuralNetwork(0.001)\n",
    "model.set_linear_model(len(data.properties))\n",
    "model.set_optimizer()\n",
    "\n",
    "model.train(data)\n",
    "model.test(data)"
   ]
  },
  {
   "cell_type": "code",
   "execution_count": null,
   "metadata": {},
   "outputs": [
    {
     "name": "stdout",
     "output_type": "stream",
     "text": [
      "(246276,)\n",
      "(246276, 6)\n"
     ]
    }
   ],
   "source": [
    "halos = vr.load(\"/net/hypernova/data2/FLAMINGO/L1000N1800/HYDRO_FIDUCIAL/SOAP/halo_properties_0077.hdf5\")\n",
    "target = halos.root.so.v500_crit.gasmass\n",
    "datapoints = np.zeros((len(target), 6))\n",
    "datapoints[:,0] = halos.root.so.v500_crit.xrayluminosity[:,0]\n",
    "datapoints[:,1] = halos.root.so.v500_crit.xrayluminosity[:,1]\n",
    "datapoints[:,2] = halos.root.so.v500_crit.xrayluminosity[:,2]\n",
    "datapoints[:,3] = halos.root.so.v500_crit.soradius\n",
    "datapoints[:,4] = halos.root.so.v500_crit.starformationrate\n",
    "datapoints[:,5] = halos.root.so.v500_crit.gastemperature\n",
    "\n",
    "\n",
    "nonzero_target = (target != 0)\n",
    "nonzero_datapoints = np.sum(datapoints==0, axis=1) == 0\n",
    "nonzero = nonzero_target * nonzero_datapoints\n",
    "\n",
    "target = target[nonzero]\n",
    "datapoints = datapoints[nonzero]\n",
    "print(target.shape)\n",
    "print(datapoints.shape)"
   ]
  },
  {
   "cell_type": "code",
   "execution_count": null,
   "metadata": {},
   "outputs": [],
   "source": [
    "\n",
    "target = torch.tensor(target, dtype=torch.float32).log10()\n",
    "datapoints = torch.tensor(datapoints, dtype=torch.float32).log10()"
   ]
  },
  {
   "cell_type": "code",
   "execution_count": null,
   "metadata": {},
   "outputs": [
    {
     "name": "stdout",
     "output_type": "stream",
     "text": [
      "tensor([13.6956, 13.7308, 13.6480,  ..., 10.4212, 10.6865, 10.6085])\n",
      "tensor([[ 8.6196,  8.5411,  8.4599,  3.0608,  8.0414,  7.6634],\n",
      "        [ 8.7194,  8.7335,  8.5588,  3.0796,  7.9918,  7.6956],\n",
      "        [ 8.4475,  8.3345,  8.2899,  3.0534,  8.2660,  7.6585],\n",
      "        ...,\n",
      "        [ 2.4684, -9.8334,  1.5323,  2.0433,  5.9140,  4.9621],\n",
      "        [ 3.7946, -0.6459,  3.1396,  2.1103,  6.5626,  5.5347],\n",
      "        [ 3.1931, -4.0453,  2.1682,  2.0579,  6.9165,  5.1006]])\n"
     ]
    }
   ],
   "source": [
    "print(target)\n",
    "print(datapoints)"
   ]
  },
  {
   "cell_type": "code",
   "execution_count": null,
   "metadata": {},
   "outputs": [
    {
     "name": "stdout",
     "output_type": "stream",
     "text": [
      "tensor([[11.4549],\n",
      "        [11.4586],\n",
      "        [11.4753],\n",
      "        [11.4444],\n",
      "        [11.3992]], grad_fn=<AddmmBackward0>)\n",
      "tensor([13.6956, 13.7308, 13.6480, 13.4994, 13.5548])\n"
     ]
    }
   ],
   "source": [
    "\n",
    "\n",
    "for t in range(9000):\n",
    "    random_batch_indices = np.arange(len(datapoints))\n",
    "    np.random.shuffle(random_batch_indices)\n",
    "\n",
    "    random_batch = datapoints[random_batch_indices[:100]]\n",
    "    y_pred = model(random_batch)\n",
    "    loss = (y_pred - target[random_batch_indices[:100]]).square().sum()\n",
    "    optimizer.zero_grad()\n",
    "    loss.backward()\n",
    "    optimizer.step()\n",
    "    # print(t)\n",
    "\n",
    "\n",
    "print(model(datapoints[:5]))\n",
    "print(target[:5])"
   ]
  },
  {
   "cell_type": "code",
   "execution_count": null,
   "metadata": {},
   "outputs": [
    {
     "name": "stdout",
     "output_type": "stream",
     "text": [
      "tensor([11.4549], grad_fn=<SelectBackward0>)\n"
     ]
    }
   ],
   "source": [
    "prediction = model(datapoints)\n",
    "print(prediction[0])"
   ]
  },
  {
   "cell_type": "code",
   "execution_count": null,
   "metadata": {},
   "outputs": [
    {
     "data": {
      "image/png": "[encoded data removed]",
      "text/plain": [
       "<Figure size 432x288 with 1 Axes>"
      ]
     },
     "metadata": {
      "needs_background": "light"
     },
     "output_type": "display_data"
    }
   ],
   "source": [
    "nr_points = 10000\n",
    "plt.scatter(datapoints[:nr_points, 3], prediction[:nr_points].detach(), label=\"Prediction\")\n",
    "plt.scatter(datapoints[:nr_points, 3], target[:nr_points].detach(), label=\"True value\")\n",
    "plt.xlabel(\"SO radius ($\\log_{10}Mpc$)\")\n",
    "plt.ylabel(\"Gass mass ($\\log_{10}M_\\odot$)\")\n",
    "plt.legend()\n",
    "plt.show()"
   ]
  },
  {
   "cell_type": "code",
   "execution_count": null,
   "metadata": {},
   "outputs": [
    {
     "name": "stdout",
     "output_type": "stream",
     "text": [
      "tensor(3.0608)\n"
     ]
    }
   ],
   "source": []
  },
  {
   "cell_type": "code",
   "execution_count": null,
   "metadata": {},
   "outputs": [],
   "source": []
  }
 ],
 "metadata": {
  "kernelspec": {
   "display_name": "Python 3",
   "language": "python",
   "name": "python3"
  },
  "language_info": {
   "codemirror_mode": {
    "name": "ipython",
    "version": 3
   },
   "file_extension": ".py",
   "mimetype": "text/x-python",
   "name": "python",
   "nbconvert_exporter": "python",
   "pygments_lexer": "ipython3",
   "version": "3.11.6"
  }
 },
 "nbformat": 4,
 "nbformat_minor": 2
}
