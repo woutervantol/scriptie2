{
 "cells": [
  {
   "cell_type": "code",
   "execution_count": 1,
   "metadata": {},
   "outputs": [],
   "source": [
    "%load_ext autoreload\n",
    "%autoreload 2\n",
    "from imports.networks import *\n",
    "from imports.data import *\n",
    "from imports.params import p\n",
    "import matplotlib.pyplot as plt"
   ]
  },
  {
   "cell_type": "code",
   "execution_count": 4,
   "metadata": {},
   "outputs": [
    {
     "name": "stdout",
     "output_type": "stream",
     "text": [
      "<HDF5 file \"halo_properties_0077.hdf5\" (mode r)>\n",
      "<HDF5 file \"halo_properties_0077.hdf5\" (mode r)>\n"
     ]
    }
   ],
   "source": [
    "data = Data(p)"
   ]
  },
  {
   "cell_type": "code",
   "execution_count": 3,
   "metadata": {},
   "outputs": [
    {
     "ename": "TypeError",
     "evalue": "string indices must be integers, not 'str'",
     "output_type": "error",
     "traceback": [
      "\u001b[0;31m---------------------------------------------------------------------------\u001b[0m",
      "\u001b[0;31mTypeError\u001b[0m                                 Traceback (most recent call last)",
      "Cell \u001b[0;32mIn[3], line 1\u001b[0m\n\u001b[0;32m----> 1\u001b[0m mass \u001b[38;5;241m=\u001b[39m \u001b[43mdata\u001b[49m\u001b[38;5;241;43m.\u001b[39;49m\u001b[43msoap_file\u001b[49m\u001b[43m[\u001b[49m\u001b[38;5;124;43mf\u001b[39;49m\u001b[38;5;124;43m\"\u001b[39;49m\u001b[38;5;132;43;01m{\u001b[39;49;00m\u001b[43mp\u001b[49m\u001b[43m[\u001b[49m\u001b[38;5;124;43m'\u001b[39;49m\u001b[38;5;124;43mselection_type\u001b[39;49m\u001b[38;5;124;43m'\u001b[39;49m\u001b[43m]\u001b[49m\u001b[38;5;132;43;01m}\u001b[39;49;00m\u001b[38;5;124;43m/TotalMass\u001b[39;49m\u001b[38;5;124;43m\"\u001b[39;49m\u001b[43m]\u001b[49m[:]\n\u001b[1;32m      3\u001b[0m luminosity \u001b[38;5;241m=\u001b[39m data\u001b[38;5;241m.\u001b[39msoap_file[\u001b[38;5;124mf\u001b[39m\u001b[38;5;124m\"\u001b[39m\u001b[38;5;132;01m{\u001b[39;00mp[\u001b[38;5;124m'\u001b[39m\u001b[38;5;124mselection_type\u001b[39m\u001b[38;5;124m'\u001b[39m]\u001b[38;5;132;01m}\u001b[39;00m\u001b[38;5;124m/XRayLuminosityWithoutRecentAGNHeating\u001b[39m\u001b[38;5;124m\"\u001b[39m][:]\n\u001b[1;32m      4\u001b[0m luminosity_selection_low \u001b[38;5;241m=\u001b[39m luminosity[:,\u001b[38;5;241m0\u001b[39m] \u001b[38;5;241m<\u001b[39m \u001b[38;5;241m1e45\u001b[39m\n",
      "\u001b[0;31mTypeError\u001b[0m: string indices must be integers, not 'str'"
     ]
    }
   ],
   "source": [
    "mass = data.soap_file[f\"{p['selection_type']}/TotalMass\"][:]\n",
    "\n",
    "luminosity = data.soap_file[f\"{p['selection_type']}/XRayLuminosityWithoutRecentAGNHeating\"][:]\n",
    "luminosity_selection_low = luminosity[:,0] < 1e45\n",
    "luminosity_selection_high = luminosity[:,1] < 1e45\n",
    "mass_selection = np.logical_and(mass > 3e12, mass < 1e15)\n",
    "nonzero = (np.sum(luminosity[:,:2] == 0, axis=1) == 0)\n",
    "\n",
    "selection = mass_selection*nonzero*luminosity_selection_low*luminosity_selection_high\n",
    "\n",
    "mass = mass[selection]\n",
    "luminosity = luminosity[selection]\n",
    "print(len(mass))\n",
    "print(\"mass: \", np.sum(mass_selection))\n",
    "# print(\"luminosity_low: \", np.sum(luminosity_selection_low))\n",
    "# print(\"luminosity_high: \", np.sum(luminosity_selection_high))\n",
    "print(\"nonzero: \", np.sum(nonzero))\n",
    "\n",
    "\n",
    "plt.scatter(luminosity[:, 1], mass, s=1, c=\"dodgerblue\", alpha=0.1)\n",
    "plt.scatter(luminosity[:, 0], mass, s=1, c=\"lightcoral\", alpha=0.1)\n",
    "\n",
    "bins = np.logspace(np.log10(np.min(luminosity[:,0])), np.log10(np.max(luminosity[:,0])), 14)\n",
    "\n",
    "luminosities_low = []\n",
    "masses_low = []\n",
    "for i in range(len(bins[:-1])):\n",
    "    indices = np.logical_and(luminosity[:,0] > bins[i], luminosity[:,0] < bins[i+1])\n",
    "    luminosities_low.append(np.mean(luminosity[indices,0]))\n",
    "    masses_low.append(np.median(mass[indices]))\n",
    "\n",
    "\n",
    "bins = np.logspace(np.log10(np.min(luminosity[:,1])), np.log10(np.max(luminosity[:,1])), 20)\n",
    "\n",
    "luminosities_high = []\n",
    "masses_high = []\n",
    "for i in range(len(bins[:-1])):\n",
    "    indices = np.logical_and(luminosity[:,1] > bins[i], luminosity[:,1] < bins[i+1])\n",
    "    luminosities_high.append(np.mean(luminosity[indices,1]))\n",
    "    masses_high.append(np.median(mass[indices]))\n",
    "\n",
    "\n",
    "\n",
    "plt.plot(luminosities_low, masses_low, c=\"red\", marker=\"o\", label=\"low, 0.2-2.3 keV\")\n",
    "plt.plot(luminosities_high, masses_high, c=\"blue\", marker=\"o\", label=\"high, 2.3-8 keV\")\n",
    "\n",
    "plt.xscale(\"log\")\n",
    "plt.yscale(\"log\")\n",
    "plt.ylabel(\"M$_{500c}$ $(M_\\odot)$\")\n",
    "plt.xlabel(\"L$_{500c}$ (erg/s)\")\n",
    "plt.title(\"XRay halo gas mass against luminosity, binned median trends\")\n",
    "plt.legend()\n",
    "plt.show()"
   ]
  },
  {
   "cell_type": "code",
   "execution_count": 5,
   "metadata": {},
   "outputs": [
    {
     "ename": "TypeError",
     "evalue": "string indices must be integers, not 'str'",
     "output_type": "error",
     "traceback": [
      "\u001b[0;31m---------------------------------------------------------------------------\u001b[0m",
      "\u001b[0;31mTypeError\u001b[0m                                 Traceback (most recent call last)",
      "Cell \u001b[0;32mIn[5], line 1\u001b[0m\n\u001b[0;32m----> 1\u001b[0m mass \u001b[38;5;241m=\u001b[39m \u001b[43mdata\u001b[49m\u001b[38;5;241;43m.\u001b[39;49m\u001b[43msoap_file\u001b[49m\u001b[43m[\u001b[49m\u001b[38;5;124;43mf\u001b[39;49m\u001b[38;5;124;43m\"\u001b[39;49m\u001b[38;5;132;43;01m{\u001b[39;49;00m\u001b[43mp\u001b[49m\u001b[43m[\u001b[49m\u001b[38;5;124;43m'\u001b[39;49m\u001b[38;5;124;43mselection_type\u001b[39;49m\u001b[38;5;124;43m'\u001b[39;49m\u001b[43m]\u001b[49m\u001b[38;5;132;43;01m}\u001b[39;49;00m\u001b[38;5;124;43m/TotalMass\u001b[39;49m\u001b[38;5;124;43m\"\u001b[39;49m\u001b[43m]\u001b[49m[:]\n\u001b[1;32m      3\u001b[0m luminosity \u001b[38;5;241m=\u001b[39m data\u001b[38;5;241m.\u001b[39msoap_file[\u001b[38;5;124mf\u001b[39m\u001b[38;5;124m\"\u001b[39m\u001b[38;5;132;01m{\u001b[39;00mp[\u001b[38;5;124m'\u001b[39m\u001b[38;5;124mselection_type\u001b[39m\u001b[38;5;124m'\u001b[39m]\u001b[38;5;132;01m}\u001b[39;00m\u001b[38;5;124m/XRayLuminosity\u001b[39m\u001b[38;5;124m\"\u001b[39m][:]\n\u001b[1;32m      4\u001b[0m luminosity_selection_low \u001b[38;5;241m=\u001b[39m luminosity[:,\u001b[38;5;241m0\u001b[39m] \u001b[38;5;241m<\u001b[39m \u001b[38;5;241m1e45\u001b[39m\n",
      "\u001b[0;31mTypeError\u001b[0m: string indices must be integers, not 'str'"
     ]
    }
   ],
   "source": [
    "mass = data.soap_file[f\"{p['selection_type']}/TotalMass\"][:]\n",
    "\n",
    "luminosity = data.soap_file[f\"{p['selection_type']}/XRayLuminosityWithoutRecentAGNHeating\"][:]\n",
    "luminosity_selection_low = luminosity[:,0] < 1e45\n",
    "luminosity_selection_high = luminosity[:,1] < 1e45\n",
    "mass_selection = np.logical_and(mass > 3e12, mass < 1e15)\n",
    "nonzero = (np.sum(luminosity[:,:2] == 0, axis=1) == 0)\n",
    "\n",
    "selection = mass_selection*nonzero*luminosity_selection_low*luminosity_selection_high\n",
    "\n",
    "mass = mass[selection]\n",
    "luminosity = luminosity[selection]\n",
    "print(len(mass))\n",
    "print(\"mass: \", np.sum(mass_selection))\n",
    "# print(\"luminosity_low: \", np.sum(luminosity_selection_low))\n",
    "# print(\"luminosity_high: \", np.sum(luminosity_selection_high))\n",
    "print(\"nonzero: \", np.sum(nonzero))\n",
    "\n",
    "\n",
    "plt.scatter(mass, luminosity[:, 1], s=1, c=\"dodgerblue\", alpha=1)\n",
    "plt.scatter(mass, luminosity[:, 0], s=1, c=\"lightcoral\", alpha=1)\n",
    "\n",
    "\n",
    "bins = np.logspace(12.5, 15, 20)\n",
    "\n",
    "luminosities_low = []\n",
    "masses_low = []\n",
    "luminosities_high = []\n",
    "masses_high = []\n",
    "for i in range(len(bins)-1):\n",
    "    indices = np.logical_and(mass > bins[i], mass < bins[i+1])\n",
    "\n",
    "    luminosities_low.append(np.median(luminosity[indices,0]))\n",
    "    masses_low.append(np.median(mass[indices]))\n",
    "    \n",
    "    luminosities_high.append(np.median(luminosity[indices,1]))\n",
    "    masses_high.append(np.median(mass[indices]))\n",
    "\n",
    "plt.figure(figsize=(10, 10))\n",
    "plt.plot(masses_low, luminosities_low, c=\"red\", marker=\"o\", label=\"low, 0.2-2.3 keV\")\n",
    "plt.plot(masses_high, luminosities_high, c=\"blue\", marker=\"o\", label=\"high, 2.3-8 keV\")\n",
    "plt.ylim(1e35, 3e45)\n",
    "plt.xscale(\"log\")\n",
    "plt.yscale(\"log\")\n",
    "plt.xlabel(\"M$_{500c}$ $(M_\\odot)$\")\n",
    "plt.ylabel(\"L$_{500c}$ (erg/s)\")\n",
    "plt.title(\"XRay halo gas mass against luminosity, binned median trends\")\n",
    "plt.legend()\n",
    "plt.show()"
   ]
  },
  {
   "cell_type": "code",
   "execution_count": 4,
   "metadata": {},
   "outputs": [
    {
     "ename": "NameError",
     "evalue": "name 'luminosities_low' is not defined",
     "output_type": "error",
     "traceback": [
      "\u001b[0;31m---------------------------------------------------------------------------\u001b[0m",
      "\u001b[0;31mNameError\u001b[0m                                 Traceback (most recent call last)",
      "Cell \u001b[0;32mIn[4], line 2\u001b[0m\n\u001b[1;32m      1\u001b[0m \u001b[38;5;28;01mfrom\u001b[39;00m \u001b[38;5;21;01mscipy\u001b[39;00m\u001b[38;5;21;01m.\u001b[39;00m\u001b[38;5;21;01minterpolate\u001b[39;00m \u001b[38;5;28;01mimport\u001b[39;00m CubicSpline\n\u001b[0;32m----> 2\u001b[0m spl_low \u001b[38;5;241m=\u001b[39m CubicSpline(np\u001b[38;5;241m.\u001b[39mlog10(\u001b[43mluminosities_low\u001b[49m), np\u001b[38;5;241m.\u001b[39mlog10(masses_low), bc_type\u001b[38;5;241m=\u001b[39m((\u001b[38;5;241m1\u001b[39m, \u001b[38;5;241m0.79\u001b[39m), (\u001b[38;5;241m2\u001b[39m, \u001b[38;5;241m0.0\u001b[39m)))\n\u001b[1;32m      3\u001b[0m spl_high \u001b[38;5;241m=\u001b[39m CubicSpline(np\u001b[38;5;241m.\u001b[39mlog10(luminosities_high), np\u001b[38;5;241m.\u001b[39mlog10(masses_high), bc_type\u001b[38;5;241m=\u001b[39m\u001b[38;5;124m\"\u001b[39m\u001b[38;5;124mnatural\u001b[39m\u001b[38;5;124m\"\u001b[39m)\n\u001b[1;32m      5\u001b[0m x \u001b[38;5;241m=\u001b[39m x \u001b[38;5;241m=\u001b[39m np\u001b[38;5;241m.\u001b[39mlinspace(\u001b[38;5;241m35\u001b[39m, \u001b[38;5;241m45\u001b[39m, \u001b[38;5;241m100\u001b[39m)\n",
      "\u001b[0;31mNameError\u001b[0m: name 'luminosities_low' is not defined"
     ]
    }
   ],
   "source": [
    "from scipy.interpolate import CubicSpline\n",
    "spl_low = CubicSpline(np.log10(luminosities_low), np.log10(masses_low), bc_type=((1, 0.79), (2, 0.0)))\n",
    "spl_high = CubicSpline(np.log10(luminosities_high), np.log10(masses_high), bc_type=\"natural\")\n",
    "\n",
    "x = np.linspace(35, 45, 100)\n",
    "plt.plot(spl_low(x), x, c=\"red\")\n",
    "plt.plot(spl_high(x), x, c=\"blue\")\n",
    "plt.scatter(np.log10(mass), np.log10(luminosity[:, 1]), s=1, c=\"dodgerblue\", alpha=1)\n",
    "plt.scatter(np.log10(mass), np.log10(luminosity[:, 0]), s=1, c=\"lightcoral\", alpha=1)\n",
    "plt.scatter(np.log10(masses_low), np.log10(luminosities_low), c=\"red\", label=\"low, 0.2-2.3 keV\")\n",
    "plt.scatter(np.log10(masses_high), np.log10(luminosities_high), c=\"blue\", label=\"high, 2.3-8 keV\")\n",
    "plt.xlim(14, 15.2)\n",
    "plt.ylim(43, 45.5)\n",
    "plt.show()"
   ]
  },
  {
   "cell_type": "code",
   "execution_count": 58,
   "metadata": {},
   "outputs": [],
   "source": [
    "np.save(f\"{p['model_path']}/spline_fit_low\", spl_low, allow_pickle=True)\n",
    "np.save(f\"{p['model_path']}/spline_fit_high\", spl_high, allow_pickle=True)\n"
   ]
  },
  {
   "cell_type": "code",
   "execution_count": 21,
   "metadata": {},
   "outputs": [
    {
     "data": {
      "image/png": "[encoded data removed]",
      "text/plain": [
       "<Figure size 432x288 with 1 Axes>"
      ]
     },
     "metadata": {
      "needs_background": "light"
     },
     "output_type": "display_data"
    }
   ],
   "source": [
    "x = np.linspace(39, 45, 100)\n",
    "\n",
    "spl_low = np.load(f\"{p['base_model_path']}/spline_fit_low_M13-15_L45.npy\", allow_pickle=True)[()]\n",
    "spl_high = np.load(f\"{p['base_model_path']}/spline_fit_high_M13-15_L45.npy\", allow_pickle=True)[()]\n",
    "\n",
    "plt.plot(x, spl_low(x), c=\"red\")\n",
    "plt.plot(x, spl_high(x), c=\"blue\")\n",
    "plt.scatter(np.log10(luminosities_low), np.log10(masses_low), c=\"red\")\n",
    "plt.scatter(np.log10(luminosities_high), np.log10(masses_high), c=\"blue\")\n",
    "plt.show()\n",
    "\n"
   ]
  },
  {
   "cell_type": "code",
   "execution_count": null,
   "metadata": {},
   "outputs": [],
   "source": []
  },
  {
   "cell_type": "code",
   "execution_count": 345,
   "metadata": {},
   "outputs": [],
   "source": [
    "# def predict_mass(l, band=\"low\"):\n",
    "#     poly = np.poly1d(np.load(f\"/home/tol/Documents/Thesis/models/linear_fit_{band}_6.npy\"))\n",
    "#     return 10**poly(np.log10(l))"
   ]
  },
  {
   "cell_type": "code",
   "execution_count": 353,
   "metadata": {},
   "outputs": [
    {
     "data": {
      "image/png": "[encoded data removed]",
      "text/plain": [
       "<Figure size 432x288 with 1 Axes>"
      ]
     },
     "metadata": {
      "needs_background": "light"
     },
     "output_type": "display_data"
    }
   ],
   "source": [
    "plt.plot(luminosities_low, gasmasses_low, c=\"red\", marker=\"o\", label=\"low, 0.2-2.3 keV\")\n",
    "plt.plot(luminosities_high, gasmasses_high, c=\"blue\", marker=\"o\", label=\"high, 2.3-8 keV\")\n",
    "\n",
    "testluminosities = np.logspace(np.log10(luminosities_low[0]), np.log10(luminosities_low[-1]), 30)\n",
    "plt.plot(testluminosities, predict_mass(testluminosities, band=\"low\"))\n",
    "\n",
    "testluminosities = np.logspace(np.log10(luminosities_high[0]), np.log10(luminosities_high[-1]), 30)\n",
    "plt.plot(testluminosities, predict_mass(testluminosities, band=\"high\"))\n",
    "\n",
    "\n",
    "plt.xscale(\"log\")\n",
    "plt.yscale(\"log\")\n",
    "plt.ylabel(\"M$_{500c}$ $(M_\\odot)$\")\n",
    "plt.xlabel(\"L$_{500c}$ (erg/s)\")\n",
    "plt.title(\"Predicted mass\")\n",
    "plt.legend()\n",
    "plt.show()"
   ]
  },
  {
   "cell_type": "code",
   "execution_count": null,
   "metadata": {},
   "outputs": [],
   "source": []
  }
 ],
 "metadata": {
  "kernelspec": {
   "display_name": "Python 3",
   "language": "python",
   "name": "python3"
  },
  "language_info": {
   "codemirror_mode": {
    "name": "ipython",
    "version": 3
   },
   "file_extension": ".py",
   "mimetype": "text/x-python",
   "name": "python",
   "nbconvert_exporter": "python",
   "pygments_lexer": "ipython3",
   "version": "3.11.7"
  }
 },
 "nbformat": 4,
 "nbformat_minor": 2
}
