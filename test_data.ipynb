{
 "cells": [
  {
   "cell_type": "markdown",
   "metadata": {},
   "source": [
    "# test saved data"
   ]
  },
  {
   "cell_type": "code",
   "execution_count": 3,
   "metadata": {},
   "outputs": [
    {
     "name": "stdout",
     "output_type": "stream",
     "text": [
      "The autoreload extension is already loaded. To reload it, use:\n",
      "  %reload_ext autoreload\n"
     ]
    }
   ],
   "source": [
    "%load_ext autoreload\n",
    "%autoreload 2\n",
    "from imports.data import *\n",
    "from imports.params import p\n",
    "from imports.utility import *"
   ]
  },
  {
   "cell_type": "code",
   "execution_count": 4,
   "metadata": {},
   "outputs": [
    {
     "ename": "KeyError",
     "evalue": "'channel'",
     "output_type": "error",
     "traceback": [
      "\u001b[0;31m---------------------------------------------------------------------------\u001b[0m",
      "\u001b[0;31mKeyError\u001b[0m                                  Traceback (most recent call last)",
      "\u001b[1;32m/home/tol/Documents/Thesis/scriptie2/test_data.ipynb Cell 3\u001b[0m line \u001b[0;36m4\n\u001b[1;32m      <a href='vscode-notebook-cell://ssh-remote%2Bpczaal7.strw.leidenuniv.nl/home/tol/Documents/Thesis/scriptie2/test_data.ipynb#W2sdnNjb2RlLXJlbW90ZQ%3D%3D?line=1'>2</a>\u001b[0m data \u001b[39m=\u001b[39m Data(p, sw_path\u001b[39m=\u001b[39msw_path)\n\u001b[1;32m      <a href='vscode-notebook-cell://ssh-remote%2Bpczaal7.strw.leidenuniv.nl/home/tol/Documents/Thesis/scriptie2/test_data.ipynb#W2sdnNjb2RlLXJlbW90ZQ%3D%3D?line=2'>3</a>\u001b[0m filename \u001b[39m=\u001b[39m p_to_filename(p) \u001b[39m+\u001b[39m \u001b[39m\"\u001b[39m\u001b[39m_test\u001b[39m\u001b[39m\"\u001b[39m\n\u001b[0;32m----> <a href='vscode-notebook-cell://ssh-remote%2Bpczaal7.strw.leidenuniv.nl/home/tol/Documents/Thesis/scriptie2/test_data.ipynb#W2sdnNjb2RlLXJlbW90ZQ%3D%3D?line=3'>4</a>\u001b[0m data\u001b[39m.\u001b[39;49mmake_obs_dataset(filename\u001b[39m=\u001b[39;49mfilename, target\u001b[39m=\u001b[39;49m\u001b[39m\"\u001b[39;49m\u001b[39mTotalMass\u001b[39;49m\u001b[39m\"\u001b[39;49m)\n",
      "File \u001b[0;32m~/Documents/Thesis/scriptie2/imports/data.py:66\u001b[0m, in \u001b[0;36mData.make_obs_dataset\u001b[0;34m(self, filename, target)\u001b[0m\n\u001b[1;32m     63\u001b[0m data_x \u001b[39m=\u001b[39m (data_x \u001b[39m-\u001b[39m \u001b[39mself\u001b[39m\u001b[39m.\u001b[39mmean_x[np\u001b[39m.\u001b[39mnewaxis, :, np\u001b[39m.\u001b[39mnewaxis, np\u001b[39m.\u001b[39mnewaxis]) \u001b[39m/\u001b[39m \u001b[39mself\u001b[39m\u001b[39m.\u001b[39mstd_x[np\u001b[39m.\u001b[39mnewaxis, :, np\u001b[39m.\u001b[39mnewaxis, np\u001b[39m.\u001b[39mnewaxis]\n\u001b[1;32m     64\u001b[0m data_y \u001b[39m=\u001b[39m (data_y \u001b[39m-\u001b[39m \u001b[39mself\u001b[39m\u001b[39m.\u001b[39mmean_y) \u001b[39m/\u001b[39m \u001b[39mself\u001b[39m\u001b[39m.\u001b[39mstd_y\n\u001b[0;32m---> 66\u001b[0m \u001b[39mif\u001b[39;00m \u001b[39mself\u001b[39;49m\u001b[39m.\u001b[39;49mp[\u001b[39m\"\u001b[39;49m\u001b[39mchannel\u001b[39;49m\u001b[39m\"\u001b[39;49m]\u001b[39m==\u001b[39m\u001b[39m\"\u001b[39m\u001b[39mlow\u001b[39m\u001b[39m\"\u001b[39m: \n\u001b[1;32m     67\u001b[0m     data_x \u001b[39m=\u001b[39m data_x[:,:\u001b[39m1\u001b[39m,:,:]\n\u001b[1;32m     68\u001b[0m \u001b[39melif\u001b[39;00m \u001b[39mself\u001b[39m\u001b[39m.\u001b[39mp[\u001b[39m\"\u001b[39m\u001b[39mchannel\u001b[39m\u001b[39m\"\u001b[39m]\u001b[39m==\u001b[39m\u001b[39m\"\u001b[39m\u001b[39mhigh\u001b[39m\u001b[39m\"\u001b[39m: \n",
      "\u001b[0;31mKeyError\u001b[0m: 'channel'"
     ]
    }
   ],
   "source": [
    "p[\"channel\"] = \"2chan\"\n",
    "\n",
    "sw_path = \"flamingo_0077/flamingo_0077.hdf5\"\n",
    "data = Data(p, sw_path=sw_path)\n",
    "filename = p_to_filename(p) + \"_test\"\n",
    "data.make_obs_dataset(filename=filename, target=\"TotalMass\")"
   ]
  },
  {
   "cell_type": "code",
   "execution_count": 4,
   "metadata": {},
   "outputs": [
    {
     "ename": "FileNotFoundError",
     "evalue": "[Errno 2] No such file or directory: '/net/dodder/data2/tol/obs_data/test/obs_data_L1000N1800_HYDRO_FIDUCIAL_SO_500crit_res64_M1e13_rad2Mpc_halo_indices.npy'",
     "output_type": "error",
     "traceback": [
      "\u001b[0;31m---------------------------------------------------------------------------\u001b[0m",
      "\u001b[0;31mFileNotFoundError\u001b[0m                         Traceback (most recent call last)",
      "\u001b[1;32m/home/tol/Documents/Thesis/scriptie2/test_data.ipynb Cell 3\u001b[0m line \u001b[0;36m1\n\u001b[0;32m----> <a href='vscode-notebook-cell://ssh-remote%2Bpczaal7.strw.leidenuniv.nl/home/tol/Documents/Thesis/scriptie2/test_data.ipynb#W2sdnNjb2RlLXJlbW90ZQ%3D%3D?line=0'>1</a>\u001b[0m data\u001b[39m.\u001b[39;49mcreate_obs_data(save_loc\u001b[39m=\u001b[39;49mp[\u001b[39m\"\u001b[39;49m\u001b[39mbase_data_path\u001b[39;49m\u001b[39m\"\u001b[39;49m] \u001b[39m+\u001b[39;49m \u001b[39m\"\u001b[39;49m\u001b[39m/test\u001b[39;49m\u001b[39m\"\u001b[39;49m, nr_samples\u001b[39m=\u001b[39;49m\u001b[39m2\u001b[39;49m)\n",
      "File \u001b[0;32m~/Documents/Thesis/scriptie2/imports/data.py:90\u001b[0m, in \u001b[0;36mData.create_obs_data\u001b[0;34m(self, save_loc, nr_samples)\u001b[0m\n\u001b[1;32m     88\u001b[0m mass_bin_edges \u001b[39m=\u001b[39m np\u001b[39m.\u001b[39mlogspace(\u001b[39m13\u001b[39m, \u001b[39m15\u001b[39m, nr_bins\u001b[39m+\u001b[39m\u001b[39m1\u001b[39m)\n\u001b[1;32m     89\u001b[0m halo_indices \u001b[39m=\u001b[39m np\u001b[39m.\u001b[39msort(\u001b[39mself\u001b[39m\u001b[39m.\u001b[39mmass_uniform_halo_indices(mass_bin_edges, nr_samples))\n\u001b[0;32m---> 90\u001b[0m np\u001b[39m.\u001b[39;49msave(\u001b[39mf\u001b[39;49m\u001b[39m\"\u001b[39;49m\u001b[39m{\u001b[39;49;00msave_loc\u001b[39m}\u001b[39;49;00m\u001b[39m/\u001b[39;49m\u001b[39m{\u001b[39;49;00mfilename\u001b[39m}\u001b[39;49;00m\u001b[39m_halo_indices\u001b[39;49m\u001b[39m\"\u001b[39;49m, halo_indices)\n\u001b[1;32m     92\u001b[0m \u001b[39mfor\u001b[39;00m sample \u001b[39min\u001b[39;00m \u001b[39mrange\u001b[39m(\u001b[39mlen\u001b[39m(halo_indices)):\n\u001b[1;32m     93\u001b[0m     mask \u001b[39m=\u001b[39m sw\u001b[39m.\u001b[39mmask(\u001b[39mself\u001b[39m\u001b[39m.\u001b[39msw_path)\n",
      "File \u001b[0;32m~/.local/lib/python3.11/site-packages/numpy/lib/npyio.py:542\u001b[0m, in \u001b[0;36msave\u001b[0;34m(file, arr, allow_pickle, fix_imports)\u001b[0m\n\u001b[1;32m    540\u001b[0m     \u001b[39mif\u001b[39;00m \u001b[39mnot\u001b[39;00m file\u001b[39m.\u001b[39mendswith(\u001b[39m'\u001b[39m\u001b[39m.npy\u001b[39m\u001b[39m'\u001b[39m):\n\u001b[1;32m    541\u001b[0m         file \u001b[39m=\u001b[39m file \u001b[39m+\u001b[39m \u001b[39m'\u001b[39m\u001b[39m.npy\u001b[39m\u001b[39m'\u001b[39m\n\u001b[0;32m--> 542\u001b[0m     file_ctx \u001b[39m=\u001b[39m \u001b[39mopen\u001b[39;49m(file, \u001b[39m\"\u001b[39;49m\u001b[39mwb\u001b[39;49m\u001b[39m\"\u001b[39;49m)\n\u001b[1;32m    544\u001b[0m \u001b[39mwith\u001b[39;00m file_ctx \u001b[39mas\u001b[39;00m fid:\n\u001b[1;32m    545\u001b[0m     arr \u001b[39m=\u001b[39m np\u001b[39m.\u001b[39masanyarray(arr)\n",
      "\u001b[0;31mFileNotFoundError\u001b[0m: [Errno 2] No such file or directory: '/net/dodder/data2/tol/obs_data/test/obs_data_L1000N1800_HYDRO_FIDUCIAL_SO_500crit_res64_M1e13_rad2Mpc_halo_indices.npy'"
     ]
    }
   ],
   "source": [
    "# data.create_obs_data(save_loc=p[\"base_data_path\"], nr_samples=2)"
   ]
  },
  {
   "cell_type": "code",
   "execution_count": null,
   "metadata": {},
   "outputs": [],
   "source": []
  },
  {
   "cell_type": "markdown",
   "metadata": {},
   "source": [
    "# make single obs data"
   ]
  },
  {
   "cell_type": "code",
   "execution_count": 1,
   "metadata": {},
   "outputs": [],
   "source": [
    "%load_ext autoreload\n",
    "%autoreload 2\n",
    "from imports.data import *\n",
    "from imports.params import p\n",
    "from imports.utility import *\n",
    "import matplotlib.pyplot as plt"
   ]
  },
  {
   "cell_type": "code",
   "execution_count": 2,
   "metadata": {},
   "outputs": [],
   "source": [
    "soapfile = h5py.File(\"/net/hypernova/data2/FLAMINGO/L1000N1800/HYDRO_FIDUCIAL/SOAP/halo_properties_0077.hdf5\", \"r\")\n",
    "mask = sw.mask(\"/net/hypernova/data2/FLAMINGO/L1000N1800/HYDRO_FIDUCIAL/snapshots/flamingo_0077/flamingo_0077.hdf5\")"
   ]
  },
  {
   "cell_type": "code",
   "execution_count": 3,
   "metadata": {},
   "outputs": [],
   "source": [
    "def make_obs(halo_index=0):\n",
    "    print(soapfile[\"SO/500_crit/XRayLuminosity\"][halo_index])\n",
    "    position = soapfile[\"SO/500_crit/CentreOfMass\"][halo_index] * unyt.Mpc\n",
    "    # radius = soapfile[\"SO/500_crit/SORadius\"][halo_index] * unyt.Mpc\n",
    "    radius = 2*unyt.Mpc\n",
    "    load_box = [[position[0] - radius, position[0] + radius], \n",
    "                [position[1] - radius, position[1] + radius], \n",
    "                [position[2] - radius, position[2] + radius]]\n",
    "    mask.constrain_spatial(load_box)\n",
    "    halo_data = sw.load(\"/net/hypernova/data2/FLAMINGO/L1000N1800/HYDRO_FIDUCIAL/snapshots/flamingo_0077/flamingo_0077.hdf5\", mask=mask)\n",
    "\n",
    "    halo_mask = halo_data.gas.last_agnfeedback_scale_factors < 0.999\n",
    "    # print(halo_data.gas.last_agnfeedback_scale_factors[np.argmax(halo_mask)])\n",
    "\n",
    "    # halo_data.gas.mass_weighted_flux = halo_data.gas.masses * halo_data.gas.xray_luminosities.erosita_low\n",
    "    # mass_weighted_flux = sw.visualisation.projection.project_gas(\n",
    "    #     halo_data,\n",
    "    #     resolution=64, \n",
    "    #     project=\"mass_weighted_flux\", \n",
    "    #     region=[position[0] - radius, position[0] + radius, position[1] - radius, position[1] + radius],\n",
    "    #     parallel = True\n",
    "    # )\n",
    "    # mass_density = sw.visualisation.projection.project_gas(\n",
    "    #     halo_data,\n",
    "    #     resolution=64, \n",
    "    #     project=\"masses\", \n",
    "    #     region=[position[0] - radius, position[0] + radius, position[1] - radius, position[1] + radius],\n",
    "    #     parallel = True\n",
    "    # )\n",
    "\n",
    "    # flux = mass_weighted_flux / mass_density\n",
    "    # flux = np.float64(flux)\n",
    "    # flux.convert_to_units(unyt.erg/unyt.s)\n",
    "\n",
    "    halo_data.gas.flux = halo_data.gas.xray_luminosities.erosita_low\n",
    "    flux = sw.visualisation.projection.project_gas(\n",
    "        halo_data,\n",
    "        resolution=64, \n",
    "        project=\"flux\", \n",
    "        region=[position[0] - radius, position[0] + radius, position[1] - radius, position[1] + radius],\n",
    "        parallel = True,\n",
    "        mask = halo_mask\n",
    "    )\n",
    "    flux = np.float64(flux)\n",
    "    flux.convert_to_units(unyt.erg/unyt.s / unyt.kpc**2)\n",
    "\n",
    "    return flux"
   ]
  },
  {
   "cell_type": "code",
   "execution_count": 5,
   "metadata": {},
   "outputs": [
    {
     "name": "stdout",
     "output_type": "stream",
     "text": [
      "[6.71853505e+42 1.22909991e+42 4.30661364e+42]\n"
     ]
    },
    {
     "name": "stderr",
     "output_type": "stream",
     "text": [
      "/home/tol/.local/lib/python3.11/site-packages/swiftsimio/objects.py:261: RuntimeWarning: Mixing ufunc arguments with and without cosmo_factors, continuing assuming provided cosmo_factor (a**0.0 at a=1.0) for all arguments.\n",
      "  warnings.warn(\n"
     ]
    },
    {
     "name": "stdout",
     "output_type": "stream",
     "text": [
      "8.246179940260993e+42 erg/(kpc**2*s) (Comoving)\n"
     ]
    },
    {
     "data": {
      "image/png": "[encoded data removed]",
      "text/plain": [
       "<Figure size 432x288 with 2 Axes>"
      ]
     },
     "metadata": {
      "needs_background": "light"
     },
     "output_type": "display_data"
    }
   ],
   "source": [
    "for i in range(101073, 101074):\n",
    "    flux = make_obs(i)\n",
    "    # print(flux)\n",
    "    # flux.convert_to_physical()\n",
    "    # print(flux)\n",
    "    # print(flux.comoving)\n",
    "    # print(flux.cosmo_factor)\n",
    "    print(np.sum(flux) * (2*2000/64)**2)\n",
    "    plt.imshow(np.log10(flux))\n",
    "    plt.colorbar()\n",
    "    plt.show()"
   ]
  }
 ],
 "metadata": {
  "kernelspec": {
   "display_name": "Python 3",
   "language": "python",
   "name": "python3"
  },
  "language_info": {
   "codemirror_mode": {
    "name": "ipython",
    "version": 3
   },
   "file_extension": ".py",
   "mimetype": "text/x-python",
   "name": "python",
   "nbconvert_exporter": "python",
   "pygments_lexer": "ipython3",
   "version": "3.11.6"
  }
 },
 "nbformat": 4,
 "nbformat_minor": 2
}
