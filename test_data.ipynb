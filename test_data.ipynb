{
 "cells": [
  {
   "cell_type": "markdown",
   "metadata": {},
   "source": [
    "# test saved data"
   ]
  },
  {
   "cell_type": "code",
   "execution_count": 1,
   "metadata": {},
   "outputs": [],
   "source": [
    "%load_ext autoreload\n",
    "%autoreload 2\n",
    "from imports.data import *\n",
    "from imports.params import p\n",
    "from imports.utility import *"
   ]
  },
  {
   "cell_type": "code",
   "execution_count": 5,
   "metadata": {},
   "outputs": [],
   "source": [
    "p[\"channel\"] = \"2chan\"\n",
    "\n",
    "sw_path = \"flamingo_0077/flamingo_0077.hdf5\"\n",
    "data = Data(p, sw_path=sw_path)\n",
    "filename = p_to_filename(p) + \"big\"\n",
    "data.load_dataset(filename=filename)"
   ]
  },
  {
   "cell_type": "code",
   "execution_count": 7,
   "metadata": {},
   "outputs": [
    {
     "name": "stdout",
     "output_type": "stream",
     "text": [
      "(7941, 2, 64, 64)\n"
     ]
    },
    {
     "data": {
      "image/png": "[encoded data removed]",
      "text/plain": [
       "<Figure size 432x288 with 1 Axes>"
      ]
     },
     "metadata": {
      "needs_background": "light"
     },
     "output_type": "display_data"
    }
   ],
   "source": [
    "print(data.images.shape)\n",
    "import matplotlib.pyplot as plt\n",
    "plt.imshow(data.images[0, 0])\n",
    "plt.show()"
   ]
  },
  {
   "cell_type": "code",
   "execution_count": 20,
   "metadata": {},
   "outputs": [
    {
     "data": {
      "image/png": "[encoded data removed]",
      "text/plain": [
       "<Figure size 432x288 with 1 Axes>"
      ]
     },
     "metadata": {
      "needs_background": "light"
     },
     "output_type": "display_data"
    }
   ],
   "source": [
    "logbins = np.logspace(np.log10(np.min(data.masses)), np.log10(np.max(data.masses)), 20)\n",
    "plt.hist(data.masses, bins=logbins)\n",
    "plt.yscale(\"log\")\n",
    "plt.xscale(\"log\")\n",
    "plt.ylabel(\"Number of halos in dataset\")\n",
    "plt.xlabel(\"Halo total mass\")\n",
    "plt.show()"
   ]
  },
  {
   "cell_type": "markdown",
   "metadata": {},
   "source": [
    "# make single obs data"
   ]
  },
  {
   "cell_type": "code",
   "execution_count": 1,
   "metadata": {},
   "outputs": [],
   "source": [
    "%load_ext autoreload\n",
    "%autoreload 2\n",
    "from imports.data import *\n",
    "from imports.params import p\n",
    "from imports.utility import *\n",
    "import matplotlib.pyplot as plt"
   ]
  },
  {
   "cell_type": "code",
   "execution_count": 2,
   "metadata": {},
   "outputs": [],
   "source": [
    "soapfile = h5py.File(\"/net/hypernova/data2/FLAMINGO/L1000N1800/HYDRO_FIDUCIAL/SOAP/halo_properties_0077.hdf5\", \"r\")\n",
    "mask = sw.mask(\"/net/hypernova/data2/FLAMINGO/L1000N1800/HYDRO_FIDUCIAL/snapshots/flamingo_0077/flamingo_0077.hdf5\")"
   ]
  },
  {
   "cell_type": "code",
   "execution_count": 3,
   "metadata": {},
   "outputs": [],
   "source": [
    "def make_obs(halo_index=0):\n",
    "    print(soapfile[\"SO/500_crit/XRayLuminosity\"][halo_index])\n",
    "    position = soapfile[\"SO/500_crit/CentreOfMass\"][halo_index] * unyt.Mpc\n",
    "    # radius = soapfile[\"SO/500_crit/SORadius\"][halo_index] * unyt.Mpc\n",
    "    radius = 2*unyt.Mpc\n",
    "    load_box = [[position[0] - radius, position[0] + radius], \n",
    "                [position[1] - radius, position[1] + radius], \n",
    "                [position[2] - radius, position[2] + radius]]\n",
    "    mask.constrain_spatial(load_box)\n",
    "    halo_data = sw.load(\"/net/hypernova/data2/FLAMINGO/L1000N1800/HYDRO_FIDUCIAL/snapshots/flamingo_0077/flamingo_0077.hdf5\", mask=mask)\n",
    "\n",
    "    halo_mask = halo_data.gas.last_agnfeedback_scale_factors < 0.999\n",
    "    # print(halo_data.gas.last_agnfeedback_scale_factors[np.argmax(halo_mask)])\n",
    "\n",
    "    # halo_data.gas.mass_weighted_flux = halo_data.gas.masses * halo_data.gas.xray_luminosities.erosita_low\n",
    "    # mass_weighted_flux = sw.visualisation.projection.project_gas(\n",
    "    #     halo_data,\n",
    "    #     resolution=64, \n",
    "    #     project=\"mass_weighted_flux\", \n",
    "    #     region=[position[0] - radius, position[0] + radius, position[1] - radius, position[1] + radius],\n",
    "    #     parallel = True\n",
    "    # )\n",
    "    # mass_density = sw.visualisation.projection.project_gas(\n",
    "    #     halo_data,\n",
    "    #     resolution=64, \n",
    "    #     project=\"masses\", \n",
    "    #     region=[position[0] - radius, position[0] + radius, position[1] - radius, position[1] + radius],\n",
    "    #     parallel = True\n",
    "    # )\n",
    "\n",
    "    # flux = mass_weighted_flux / mass_density\n",
    "    # flux = np.float64(flux)\n",
    "    # flux.convert_to_units(unyt.erg/unyt.s)\n",
    "\n",
    "    halo_data.gas.flux = halo_data.gas.xray_luminosities.erosita_low\n",
    "    flux = sw.visualisation.projection.project_gas(\n",
    "        halo_data,\n",
    "        resolution=64, \n",
    "        project=\"flux\", \n",
    "        region=[position[0] - radius, position[0] + radius, position[1] - radius, position[1] + radius],\n",
    "        parallel = True,\n",
    "        mask = halo_mask\n",
    "    )\n",
    "    flux = np.float64(flux)\n",
    "    flux.convert_to_units(unyt.erg/unyt.s / unyt.kpc**2)\n",
    "\n",
    "    return flux"
   ]
  },
  {
   "cell_type": "code",
   "execution_count": 5,
   "metadata": {},
   "outputs": [
    {
     "name": "stdout",
     "output_type": "stream",
     "text": [
      "[6.71853505e+42 1.22909991e+42 4.30661364e+42]\n"
     ]
    },
    {
     "name": "stderr",
     "output_type": "stream",
     "text": [
      "/home/tol/.local/lib/python3.11/site-packages/swiftsimio/objects.py:261: RuntimeWarning: Mixing ufunc arguments with and without cosmo_factors, continuing assuming provided cosmo_factor (a**0.0 at a=1.0) for all arguments.\n",
      "  warnings.warn(\n"
     ]
    },
    {
     "name": "stdout",
     "output_type": "stream",
     "text": [
      "8.246179940260993e+42 erg/(kpc**2*s) (Comoving)\n"
     ]
    },
    {
     "data": {
      "image/png": "[encoded data removed]",
      "text/plain": [
       "<Figure size 432x288 with 2 Axes>"
      ]
     },
     "metadata": {
      "needs_background": "light"
     },
     "output_type": "display_data"
    }
   ],
   "source": [
    "for i in range(101073, 101074):\n",
    "    flux = make_obs(i)\n",
    "    # print(flux)\n",
    "    # flux.convert_to_physical()\n",
    "    # print(flux)\n",
    "    # print(flux.comoving)\n",
    "    # print(flux.cosmo_factor)\n",
    "    print(np.sum(flux) * (2*2000/64)**2)\n",
    "    plt.imshow(np.log10(flux))\n",
    "    plt.colorbar()\n",
    "    plt.show()"
   ]
  }
 ],
 "metadata": {
  "kernelspec": {
   "display_name": "Python 3",
   "language": "python",
   "name": "python3"
  },
  "language_info": {
   "codemirror_mode": {
    "name": "ipython",
    "version": 3
   },
   "file_extension": ".py",
   "mimetype": "text/x-python",
   "name": "python",
   "nbconvert_exporter": "python",
   "pygments_lexer": "ipython3",
   "version": "3.11.6"
  }
 },
 "nbformat": 4,
 "nbformat_minor": 2
}
