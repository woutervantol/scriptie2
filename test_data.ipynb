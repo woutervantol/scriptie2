{
 "cells": [
  {
   "cell_type": "code",
   "execution_count": 1,
   "metadata": {},
   "outputs": [],
   "source": [
    "%load_ext autoreload\n",
    "%autoreload 2\n",
    "from imports.data import *\n",
    "from imports.params import p\n",
    "from imports.utility import *\n",
    "import matplotlib.pyplot as plt"
   ]
  },
  {
   "cell_type": "markdown",
   "metadata": {},
   "source": [
    "# test saved data"
   ]
  },
  {
   "cell_type": "code",
   "execution_count": 20,
   "metadata": {},
   "outputs": [
    {
     "name": "stdout",
     "output_type": "stream",
     "text": [
      "(7947, 2, 64, 64)\n"
     ]
    }
   ],
   "source": [
    "p[\"channel\"] = \"2chan\"\n",
    "p[\"cosmology\"] = \"HYDRO_JETS_published\"\n",
    "data = Data(p)\n",
    "filename = p_to_filename(p)\n",
    "data.load_dataset(filename=filename)\n",
    "print(data.images.shape)"
   ]
  },
  {
   "cell_type": "code",
   "execution_count": 24,
   "metadata": {},
   "outputs": [
    {
     "name": "stdout",
     "output_type": "stream",
     "text": [
      "[]\n"
     ]
    }
   ],
   "source": [
    "ids_to_remove = np.unique(np.where(data.images == 0)[0])\n",
    "print(ids_to_remove)"
   ]
  },
  {
   "cell_type": "code",
   "execution_count": 22,
   "metadata": {},
   "outputs": [
    {
     "name": "stdout",
     "output_type": "stream",
     "text": [
      "(7947, 2, 64, 64)\n",
      "(7947,)\n",
      "(7914, 2, 64, 64)\n",
      "(7914,)\n"
     ]
    }
   ],
   "source": [
    "###remove image from data and save\n",
    "print(data.images.shape)\n",
    "print(data.indices.shape)\n",
    "data.images = np.delete(data.images, ids_to_remove, axis=0)\n",
    "data.indices = np.delete(data.indices, ids_to_remove)\n",
    "print(data.images.shape)\n",
    "print(data.indices.shape)"
   ]
  },
  {
   "cell_type": "code",
   "execution_count": 23,
   "metadata": {},
   "outputs": [],
   "source": [
    "# np.save(p[\"data_path\"] + p_to_filename(p), data.images)\n",
    "# np.save(p[\"data_path\"] + p_to_filename(p) + \"_halo_indices\", data.indices)"
   ]
  },
  {
   "cell_type": "code",
   "execution_count": 6,
   "metadata": {},
   "outputs": [
    {
     "name": "stdout",
     "output_type": "stream",
     "text": [
      "(8043,)\n",
      "[7.7240692e+13 1.5173260e+14 7.5179108e+13 ... 7.3254962e+13 8.9885076e+13\n",
      " 1.5805480e+14]\n"
     ]
    },
    {
     "data": {
      "text/plain": [
       "(array([1006.,  994., 1000., 1000., 1000., 1000., 1000.,  690.,  261.,\n",
       "          92.]),\n",
       " array([13.00068855, 13.20054817, 13.40040779, 13.60026741, 13.80012703,\n",
       "        13.99998665, 14.19984722, 14.39970684, 14.59956646, 14.79942608,\n",
       "        14.9992857 ]),\n",
       " <BarContainer object of 10 artists>)"
      ]
     },
     "execution_count": 6,
     "metadata": {},
     "output_type": "execute_result"
    },
    {
     "data": {
      "image/png": "[encoded data removed]",
      "text/plain": [
       "<Figure size 640x480 with 1 Axes>"
      ]
     },
     "metadata": {},
     "output_type": "display_data"
    }
   ],
   "source": [
    "halo_indices = np.load(p[\"data_path\"] + p_to_filename(p) + \"_halo_indices\" + \".npy\")\n",
    "print(halo_indices.shape)\n",
    "print(data.soap_file[f\"{p['selection_type']}/TotalMass\"][()][halo_indices])\n",
    "plt.hist(np.log10(data.soap_file[f\"{p['selection_type']}/TotalMass\"][()][halo_indices]))\n",
    "# np.save(p[\"data_path\"] + p_to_filename(p) + \"_masses\", data.soap_file[f\"{p['selection_type']}/TotalMass\"][()][halo_indices])"
   ]
  },
  {
   "cell_type": "code",
   "execution_count": 49,
   "metadata": {},
   "outputs": [],
   "source": [
    "###Append rest of data to half-finished data generation\n",
    "dataset = np.load(p[\"data_path\"] + p_to_filename(p) + \"big2\" + \".npy\")\n",
    "halo_indices = np.load(p[\"data_path\"] + p_to_filename(p) + \"big2\" + \"_halo_indices\" + \".npy\")\n",
    "time_start = time.time()\n",
    "for sample, halo_index in enumerate(halo_indices):\n",
    "    if sample < len(data.images):\n",
    "        continue\n",
    "    red_flux, blue_flux = data.make_obs(halo_index)\n",
    "    fluxes = np.append(red_flux, blue_flux).reshape(1, 2, p['resolution'], p['resolution'])\n",
    "    dataset = np.append(dataset, fluxes).reshape(sample+1, 2, p['resolution'], p['resolution'])\n",
    "    print(f\"Sample {sample} of {len(halo_indices)} done. Time running: {time.time() - time_start}s\")\n",
    "\n",
    "    if sample%100 == 99:\n",
    "        np.save(p[\"data_path\"] + p_to_filename(p) + \"big2_append4\", dataset)\n",
    "np.save(p[\"data_path\"] + p_to_filename(p) + \"big2_append4\", dataset)"
   ]
  },
  {
   "cell_type": "code",
   "execution_count": null,
   "metadata": {},
   "outputs": [],
   "source": [
    "for image in data.images[:10]:\n",
    "    plt.imshow((image[0]))\n",
    "    plt.colorbar()\n",
    "    plt.show()"
   ]
  },
  {
   "cell_type": "code",
   "execution_count": 69,
   "metadata": {},
   "outputs": [
    {
     "name": "stdout",
     "output_type": "stream",
     "text": [
      "(7941, 2, 64, 64)\n"
     ]
    },
    {
     "data": {
      "image/png": "[encoded data removed]",
      "text/plain": [
       "<Figure size 432x288 with 2 Axes>"
      ]
     },
     "metadata": {
      "needs_background": "light"
     },
     "output_type": "display_data"
    }
   ],
   "source": [
    "print(data.images.shape)\n",
    "import matplotlib.pyplot as plt\n",
    "plt.imshow(data.images[-4, 0])\n",
    "plt.colorbar()\n",
    "plt.show()"
   ]
  },
  {
   "cell_type": "code",
   "execution_count": 20,
   "metadata": {},
   "outputs": [
    {
     "data": {
      "image/png": "[encoded data removed]",
      "text/plain": [
       "<Figure size 432x288 with 1 Axes>"
      ]
     },
     "metadata": {
      "needs_background": "light"
     },
     "output_type": "display_data"
    }
   ],
   "source": [
    "logbins = np.logspace(np.log10(np.min(data.masses)), np.log10(np.max(data.masses)), 20)\n",
    "plt.hist(data.masses, bins=logbins)\n",
    "plt.yscale(\"log\")\n",
    "plt.xscale(\"log\")\n",
    "plt.ylabel(\"Number of halos in dataset\")\n",
    "plt.xlabel(\"Halo total mass\")\n",
    "plt.show()"
   ]
  },
  {
   "cell_type": "markdown",
   "metadata": {},
   "source": [
    "# make single obs data"
   ]
  },
  {
   "cell_type": "code",
   "execution_count": 75,
   "metadata": {},
   "outputs": [
    {
     "name": "stdout",
     "output_type": "stream",
     "text": [
      "12.839786\n"
     ]
    },
    {
     "name": "stderr",
     "output_type": "stream",
     "text": [
      "/home/tol/.local/lib/python3.11/site-packages/swiftsimio/objects.py:261: RuntimeWarning: Mixing ufunc arguments with and without cosmo_factors, continuing assuming provided cosmo_factor (a**0.0 at a=1.0) for all arguments.\n",
      "  warnings.warn(\n"
     ]
    }
   ],
   "source": [
    "data = Data(p)\n",
    "halo_nr = 1002\n",
    "\n",
    "print(np.log10(data.soap_file[f\"{p['selection_type']}/TotalMass\"][halo_nr]))\n",
    "low, high, sz = data.make_obs(halo_nr, rotate=True, sz=True)"
   ]
  },
  {
   "cell_type": "code",
   "execution_count": 78,
   "metadata": {},
   "outputs": [
    {
     "name": "stderr",
     "output_type": "stream",
     "text": [
      "/home/tol/.local/lib/python3.11/site-packages/swiftsimio/objects.py:261: RuntimeWarning: Mixing ufunc arguments with and without cosmo_factors, continuing assuming provided cosmo_factor (a**(-2.0) at a=1.0) for all arguments.\n",
      "  warnings.warn(\n"
     ]
    },
    {
     "data": {
      "image/png": "[encoded data removed]",
      "text/plain": [
       "<Figure size 640x480 with 2 Axes>"
      ]
     },
     "metadata": {},
     "output_type": "display_data"
    }
   ],
   "source": [
    "plt.imshow((sz))\n",
    "plt.colorbar()\n",
    "plt.show()"
   ]
  },
  {
   "cell_type": "code",
   "execution_count": 13,
   "metadata": {},
   "outputs": [],
   "source": [
    "soapfile = h5py.File(\"/net/hypernova/data2/FLAMINGO/L1000N1800/HYDRO_FIDUCIAL/SOAP/halo_properties_0077.hdf5\", \"r\")\n",
    "mask = sw.mask(\"/net/hypernova/data2/FLAMINGO/L1000N1800/HYDRO_FIDUCIAL/snapshots/flamingo_0077/flamingo_0077.hdf5\")"
   ]
  },
  {
   "cell_type": "code",
   "execution_count": 19,
   "metadata": {},
   "outputs": [
    {
     "name": "stdout",
     "output_type": "stream",
     "text": [
      "(cosmo_array([[0., 0., 0., ..., 0., 0., 0.],\n",
      "       [0., 0., 0., ..., 0., 0., 0.],\n",
      "       [0., 0., 0., ..., 0., 0., 0.],\n",
      "       ...,\n",
      "       [0., 0., 0., ..., 0., 0., 0.],\n",
      "       [0., 0., 0., ..., 0., 0., 0.],\n",
      "       [0., 0., 0., ..., 0., 0., 0.]], 'erg/s'), cosmo_array([[0., 0., 0., ..., 0., 0., 0.],\n",
      "       [0., 0., 0., ..., 0., 0., 0.],\n",
      "       [0., 0., 0., ..., 0., 0., 0.],\n",
      "       ...,\n",
      "       [0., 0., 0., ..., 0., 0., 0.],\n",
      "       [0., 0., 0., ..., 0., 0., 0.],\n",
      "       [0., 0., 0., ..., 0., 0., 0.]], 'erg/s'))\n"
     ]
    }
   ],
   "source": []
  },
  {
   "cell_type": "code",
   "execution_count": 14,
   "metadata": {},
   "outputs": [
    {
     "name": "stdout",
     "output_type": "stream",
     "text": [
      "10\n"
     ]
    }
   ],
   "source": [
    "print(soapfile[\"VR/StructureType\"][12902130])"
   ]
  },
  {
   "cell_type": "code",
   "execution_count": 57,
   "metadata": {},
   "outputs": [],
   "source": [
    "halo_data = data.make_obs(5772976)"
   ]
  },
  {
   "cell_type": "code",
   "execution_count": 85,
   "metadata": {},
   "outputs": [
    {
     "name": "stdout",
     "output_type": "stream",
     "text": [
      "(421128,)\n",
      "[0.57666016 0.57666016 0.57666016 ... 0.8222656  0.8222656  0.8222656 ] dimensionless (Comoving)\n"
     ]
    },
    {
     "data": {
      "image/png": "[encoded data removed]",
      "text/plain": [
       "<Figure size 432x288 with 1 Axes>"
      ]
     },
     "metadata": {
      "needs_background": "light"
     },
     "output_type": "display_data"
    }
   ],
   "source": [
    "print((halo_data.gas.masses).shape)\n",
    "print(np.sort(halo_data.gas.last_agnfeedback_scale_factors)[-4000:-1000])\n",
    "plt.scatter(range(len(halo_data.gas.masses)), np.sort(halo_data.gas.last_agnfeedback_scale_factors))\n",
    "# plt.xscale(\"log\")\n",
    "plt.xlim(400000, 421128)\n",
    "plt.yscale(\"log\")"
   ]
  },
  {
   "cell_type": "code",
   "execution_count": 56,
   "metadata": {},
   "outputs": [
    {
     "name": "stdout",
     "output_type": "stream",
     "text": [
      "['__class__', '__delattr__', '__dict__', '__dir__', '__doc__', '__eq__', '__format__', '__ge__', '__getattribute__', '__getstate__', '__gt__', '__hash__', '__init__', '__init_subclass__', '__le__', '__lt__', '__module__', '__ne__', '__new__', '__reduce__', '__reduce_ex__', '__repr__', '__setattr__', '__sizeof__', '__str__', '__subclasshook__', '__weakref__', 'black_holes', 'create_particle_datasets', 'dark_matter', 'filename', 'gas', 'get_metadata', 'get_units', 'mask', 'metadata', 'neutrinos', 'stars', 'units']\n"
     ]
    },
    {
     "data": {
      "image/png": "[encoded data removed]",
      "text/plain": [
       "<Figure size 432x288 with 2 Axes>"
      ]
     },
     "metadata": {
      "needs_background": "light"
     },
     "output_type": "display_data"
    }
   ],
   "source": [
    "for i in range(5772976, 5772976+1):\n",
    "    red_flux, blue_flux = data.make_obs(i)\n",
    "    plt.imshow(red_flux)\n",
    "    plt.colorbar()\n",
    "    plt.show()"
   ]
  },
  {
   "cell_type": "code",
   "execution_count": 24,
   "metadata": {},
   "outputs": [],
   "source": [
    "# def make_obs(halo_index=0):\n",
    "#     print(soapfile[\"SO/500_crit/XRayLuminosity\"][halo_index])\n",
    "#     position = soapfile[\"SO/500_crit/CentreOfMass\"][halo_index] * unyt.Mpc\n",
    "#     # radius = soapfile[\"SO/500_crit/SORadius\"][halo_index] * unyt.Mpc\n",
    "#     radius = 2*unyt.Mpc\n",
    "#     load_box = [[position[0] - radius, position[0] + radius], \n",
    "#                 [position[1] - radius, position[1] + radius], \n",
    "#                 [position[2] - radius, position[2] + radius]]\n",
    "#     mask.constrain_spatial(load_box)\n",
    "#     halo_data = sw.load(\"/net/hypernova/data2/FLAMINGO/L1000N1800/HYDRO_FIDUCIAL/snapshots/flamingo_0077/flamingo_0077.hdf5\", mask=mask)\n",
    "\n",
    "#     halo_mask = halo_data.gas.last_agnfeedback_scale_factors < 0.999\n",
    "    \n",
    "\n",
    "#     halo_data.gas.flux = halo_data.gas.xray_luminosities.erosita_low\n",
    "#     flux = sw.visualisation.projection.project_gas(\n",
    "#         halo_data,\n",
    "#         resolution=64, \n",
    "#         project=\"flux\", \n",
    "#         region=[position[0] - radius, position[0] + radius, position[1] - radius, position[1] + radius],\n",
    "#         parallel = True,\n",
    "#         mask = halo_mask\n",
    "#     )\n",
    "#     flux = np.float64(flux)\n",
    "#     flux.convert_to_units(unyt.erg/unyt.s / unyt.kpc**2)\n",
    "\n",
    "#     return flux"
   ]
  },
  {
   "cell_type": "code",
   "execution_count": 27,
   "metadata": {},
   "outputs": [
    {
     "name": "stdout",
     "output_type": "stream",
     "text": [
      "[8.67039471e+41 5.27437669e+40 6.16591649e+41]\n",
      "7.736604162846131e+43 erg/(kpc**2*s) (Comoving)\n"
     ]
    },
    {
     "data": {
      "image/png": "[encoded data removed]",
      "text/plain": [
       "<Figure size 432x288 with 2 Axes>"
      ]
     },
     "metadata": {
      "needs_background": "light"
     },
     "output_type": "display_data"
    }
   ],
   "source": []
  },
  {
   "cell_type": "markdown",
   "metadata": {},
   "source": [
    "# test compton-y"
   ]
  },
  {
   "cell_type": "code",
   "execution_count": 3,
   "metadata": {},
   "outputs": [],
   "source": [
    "p[\"cosmology\"] = \"HYDRO_PLANCK\"\n",
    "data = Data(p)"
   ]
  },
  {
   "cell_type": "code",
   "execution_count": 4,
   "metadata": {},
   "outputs": [],
   "source": [
    "mask = sw.mask(data.sw_path)\n",
    "position = data.soap_file[f\"{p['selection_type']}/CentreOfMass\"][0] * unyt.Mpc\n",
    "radius = p['obs_radius'] * unyt.Mpc\n",
    "load_box = [[position[0] - radius, position[0] + radius], \n",
    "            [position[1] - radius, position[1] + radius], \n",
    "            [position[2] - radius, position[2] + radius]]\n",
    "mask.constrain_spatial(load_box)\n",
    "\n",
    "halo_data = sw.load(data.sw_path, mask=mask)"
   ]
  },
  {
   "cell_type": "code",
   "execution_count": 11,
   "metadata": {},
   "outputs": [
    {
     "name": "stdout",
     "output_type": "stream",
     "text": [
      "T\n",
      "__abs__\n",
      "__add__\n",
      "__and__\n",
      "__array__\n",
      "__array_finalize__\n",
      "__array_function__\n",
      "__array_interface__\n",
      "__array_prepare__\n",
      "__array_priority__\n",
      "__array_struct__\n",
      "__array_ufunc__\n",
      "__array_wrap__\n",
      "__bool__\n",
      "__class__\n",
      "__class_getitem__\n",
      "__complex__\n",
      "__contains__\n",
      "__copy__\n",
      "__deepcopy__\n",
      "__delattr__\n",
      "__delitem__\n",
      "__dict__\n",
      "__dir__\n",
      "__divmod__\n",
      "__dlpack__\n",
      "__dlpack_device__\n",
      "__doc__\n",
      "__eq__\n",
      "__float__\n",
      "__floordiv__\n",
      "__format__\n",
      "__ge__\n",
      "__getattribute__\n",
      "__getitem__\n",
      "__getstate__\n",
      "__gt__\n",
      "__hash__\n",
      "__iadd__\n",
      "__iand__\n",
      "__ifloordiv__\n",
      "__ilshift__\n",
      "__imatmul__\n",
      "__imod__\n",
      "__imul__\n",
      "__index__\n",
      "__init__\n",
      "__init_subclass__\n",
      "__int__\n",
      "__invert__\n",
      "__ior__\n",
      "__ipow__\n",
      "__irshift__\n",
      "__isub__\n",
      "__iter__\n",
      "__itruediv__\n",
      "__ixor__\n",
      "__le__\n",
      "__len__\n",
      "__lshift__\n",
      "__lt__\n",
      "__matmul__\n",
      "__mod__\n",
      "__module__\n",
      "__mul__\n",
      "__ne__\n",
      "__neg__\n",
      "__new__\n",
      "__or__\n",
      "__pos__\n",
      "__pow__\n",
      "__radd__\n",
      "__rand__\n",
      "__rdivmod__\n",
      "__reduce__\n",
      "__reduce_ex__\n",
      "__repr__\n",
      "__rfloordiv__\n",
      "__rlshift__\n",
      "__rmatmul__\n",
      "__rmod__\n",
      "__rmul__\n",
      "__ror__\n",
      "__rpow__\n",
      "__rrshift__\n",
      "__rshift__\n",
      "__rsub__\n",
      "__rtruediv__\n",
      "__rxor__\n",
      "__setattr__\n",
      "__setitem__\n",
      "__setstate__\n",
      "__sizeof__\n",
      "__str__\n",
      "__sub__\n",
      "__subclasshook__\n",
      "__truediv__\n",
      "__xor__\n",
      "_cosmo_factor_ufunc_registry\n",
      "_ufunc_registry\n",
      "all\n",
      "any\n",
      "argmax\n",
      "argmin\n",
      "argpartition\n",
      "argsort\n",
      "astype\n",
      "base\n",
      "byteswap\n",
      "choose\n",
      "clip\n",
      "comoving\n",
      "compatible_with_comoving\n",
      "compatible_with_physical\n",
      "compress\n",
      "compression\n",
      "conj\n",
      "conjugate\n",
      "convert_to_base\n",
      "convert_to_cgs\n",
      "convert_to_comoving\n",
      "convert_to_equivalent\n",
      "convert_to_mks\n",
      "convert_to_physical\n",
      "convert_to_units\n",
      "copy\n",
      "cosmo_factor\n",
      "ctypes\n",
      "cumprod\n",
      "cumsum\n",
      "d\n",
      "data\n",
      "diagonal\n",
      "dot\n",
      "dtype\n",
      "dump\n",
      "dumps\n",
      "fill\n",
      "flags\n",
      "flat\n",
      "flatten\n",
      "from_astropy\n",
      "from_hdf5\n",
      "from_pint\n",
      "from_string\n",
      "getfield\n",
      "has_equivalent\n",
      "imag\n",
      "in_base\n",
      "in_cgs\n",
      "in_mks\n",
      "in_units\n",
      "item\n",
      "itemset\n",
      "itemsize\n",
      "list_equivalencies\n",
      "max\n",
      "mean\n",
      "min\n",
      "name\n",
      "nbytes\n",
      "ndarray_view\n",
      "ndim\n",
      "ndview\n",
      "newbyteorder\n",
      "nonzero\n",
      "partition\n",
      "prod\n",
      "ptp\n",
      "put\n",
      "ravel\n",
      "real\n",
      "repeat\n",
      "reshape\n",
      "resize\n",
      "round\n",
      "searchsorted\n",
      "setfield\n",
      "setflags\n",
      "shape\n",
      "size\n",
      "sort\n",
      "squeeze\n",
      "std\n",
      "strides\n",
      "sum\n",
      "swapaxes\n",
      "take\n",
      "to\n",
      "to_astropy\n",
      "to_comoving\n",
      "to_equivalent\n",
      "to_ndarray\n",
      "to_physical\n",
      "to_pint\n",
      "to_string\n",
      "to_value\n",
      "tobytes\n",
      "tofile\n",
      "tolist\n",
      "tostring\n",
      "trace\n",
      "transpose\n",
      "ua\n",
      "unit_array\n",
      "unit_quantity\n",
      "units\n",
      "uq\n",
      "v\n",
      "value\n",
      "var\n",
      "view\n",
      "write_hdf5\n",
      "[1.31254699e+64 0.00000000e+00 0.00000000e+00 ... 0.00000000e+00\n",
      " 1.25084057e+64 0.00000000e+00] 0.00102271448879616/Gyr (Comoving)\n",
      "[39.125   0.      0.     ...  0.     32.3125  0.    ] 10.697030298874*Mpc**2*Msun/Gyr**3 (Comoving)\n",
      "[1.37134748e-12 5.75095527e-14 4.49085213e-14 ... 2.13162821e-13\n",
      " 2.82796009e-12 4.32542890e-13] Mpc**2 (Comoving)\n"
     ]
    }
   ],
   "source": [
    "for i in dir(halo_data.gas.compton_yparameters):\n",
    "    print(i)\n",
    "print(halo_data.gas.xray_photon_luminosities.erosita_low)\n",
    "print(halo_data.gas.xray_luminosities.erosita_low)\n",
    "print(halo_data.gas.compton_yparameters)"
   ]
  },
  {
   "cell_type": "code",
   "execution_count": 47,
   "metadata": {},
   "outputs": [
    {
     "name": "stdout",
     "output_type": "stream",
     "text": [
      "{'Cosmological run': array([1], dtype=int32), 'Critical density [internal units]': array([12.87106552]), 'H [internal units]': array([68.09999997]), 'H0 [internal units]': array([68.09999997]), 'Hubble time [internal units]': array([0.01468429]), 'Lookback time [internal units]': array([9.02056208e-16]), 'M_nu_eV': array([0.06]), 'N_eff': array([3.04400163]), 'N_nu': array([1.]), 'N_ur': array([2.0308]), 'Omega_b': array([0.0486]), 'Omega_cdm': array([0.256011]), 'Omega_g': array([5.33243487e-05]), 'Omega_k': array([2.5212783e-09]), 'Omega_lambda': array([0.693922]), 'Omega_m': array([0.304611]), 'Omega_nu': array([0.00138908]), 'Omega_nu_0': array([0.00138908]), 'Omega_r': array([7.79180471e-05]), 'Omega_ur': array([2.45936984e-05]), 'Redshift': array([0.]), 'Scale-factor': array([1.]), 'T_CMB_0 [K]': array([2.7255]), 'T_CMB_0 [internal units]': array([2.7255]), 'T_nu_0 [eV]': array([0.00016819]), 'T_nu_0 [internal units]': array([1.9517578]), 'Universe age [internal units]': array([0.01407376]), 'a_beg': array([0.03125]), 'a_end': array([1.]), 'deg_nu': array([1.]), 'deg_nu_tot': array([1.]), 'h': array([0.681]), 'time_beg [internal units]': array([9.66296122e-05]), 'time_end [internal units]': array([0.01407376]), 'w': array([-1.]), 'w_0': array([-1.]), 'w_a': array([0.])}\n",
      "[14.05876303]\n",
      "[1.03906413]\n"
     ]
    }
   ],
   "source": [
    "d = halo_data.metadata.cosmology\n",
    "print(halo_data.metadata.cosmology)\n",
    "print(d[\"Universe age [internal units]\"]*1000 - 0.015)\n",
    "print( (d[\"Omega_m\"] / d[\"Omega_lambda\"] * np.sinh(3.0/2.0 * np.sqrt(d[\"Omega_lambda\"]) * d[\"H0 [internal units]\"] * (d[\"Hubble time [internal units]\"] - 0.000015))**2)**(1./3.))\n",
    "# print(dir(halo_data.metadata.cosmology.values))\n",
    "# print(dir(astropy))"
   ]
  }
 ],
 "metadata": {
  "kernelspec": {
   "display_name": "Python 3",
   "language": "python",
   "name": "python3"
  },
  "language_info": {
   "codemirror_mode": {
    "name": "ipython",
    "version": 3
   },
   "file_extension": ".py",
   "mimetype": "text/x-python",
   "name": "python",
   "nbconvert_exporter": "python",
   "pygments_lexer": "ipython3",
   "version": "3.11.7"
  }
 },
 "nbformat": 4,
 "nbformat_minor": 2
}
